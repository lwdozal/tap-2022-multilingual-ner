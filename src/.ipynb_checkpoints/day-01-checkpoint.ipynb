{
 "cells": [
  {
   "cell_type": "markdown",
   "id": "3e89c5b3",
   "metadata": {},
   "source": [
    "<img align=\"left\" src=\"https://ithaka-labs.s3.amazonaws.com/static-files/images/tdm/tdmdocs/tapi-logo-small.png\" />\n",
    "\n",
    "This notebook free for educational reuse under [Creative Commons CC BY License](https://creativecommons.org/licenses/by/4.0/).\n",
    "\n",
    "Created by [Firstname Lastname](https://) for the 2022 Text Analysis Pedagogy Institute, with support from the [National Endowment for the Humanities](https://neh.gov), [JSTOR Labs](https://labs.jstor.org/), and [University of Arizona Libraries](https://new.library.arizona.edu/).\n",
    "\n",
    "For questions/comments/improvements, email author@email.address.<br />\n",
    "____"
   ]
  },
  {
   "cell_type": "markdown",
   "id": "68f932d1",
   "metadata": {},
   "source": [
    "# `MultiLingual NER`\n",
    "\n",
    "This is lesson `1` of 3 in the educational series on `Named Entity Recognition`. This notebook is intended `the basic problems one faces in multilingual texts`. \n",
    "\n",
    "**Audience:** `Teachers` / `Learners` / `Researchers`\n",
    "\n",
    "**Use case:** `Tutorial` / `How-To` / `Reference` / `Explanation` \n",
    "\n",
    "`Include the use case definition from [here](https://constellate.org/docs/documentation-categories)`\n",
    "\n",
    "**Difficulty:** `Intermediate` / `Advanced`\n",
    "\n",
    "`Beginner assumes users are relatively new to Python and Jupyter Notebooks. The user is helped step-by-step with lots of explanatory text.`\n",
    "`Intermediate assumes users are familiar with Python and have been programming for 6+ months. Code makes up a larger part of the notebook and basic concepts related to Python are not explained.`\n",
    "`Advanced assumes users are very familiar with Python and have been programming for years, but they may not be familiar with the process being explained.`\n",
    "\n",
    "**Completion time:** `90 minutes`\n",
    "\n",
    "**Knowledge Required:** \n",
    "```\n",
    "* Python basics (variables, flow control, functions, lists, dictionaries)\n",
    "* Object-oriented programming (classes, instances, inheritance)\n",
    "* Basic file operations (open, close, read, write)\n",
    "\n",
    "These should be general skills but can mention a particular library\n",
    "```\n",
    "\n",
    "**Knowledge Recommended:**\n",
    "```\n",
    "* Natural Language Processing\n",
    "* spaCy\n",
    "```\n",
    "\n",
    "**Learning Objectives:**\n",
    "After this lesson, learners will be able to:\n",
    "```\n",
    "1. Understand the complexities of multilingual corpora\n",
    "2. Understand text encoding\n",
    "3. Understand how to solve encoding-issues\n",
    "4. Understand how to think about corpora-specific problems\n",
    "5. Understand spaCy\n",
    "6. Understand Named Entity Recognition (NER) as a concept\n",
    "```\n",
    "___"
   ]
  },
  {
   "cell_type": "markdown",
   "id": "157c0555",
   "metadata": {},
   "source": [
    "# Required Python Libraries\n",
    "`List out any libraries used and what they are used for`\n",
    "* spaCy\n",
    "* requests\n",
    "* BeautifulSoup (bs4)\n",
    "* unicode\n",
    "\n",
    "## Install Required Libraries"
   ]
  },
  {
   "cell_type": "code",
   "execution_count": null,
   "id": "e8a220f5",
   "metadata": {},
   "outputs": [],
   "source": [
    "### Install Libraries ###\n",
    "\n",
    "# Using !pip installs\n",
    "!pip install spacy\n",
    "!pip install unicode\n",
    "!pip insntall requests\n",
    "!pip install bs4"
   ]
  },
  {
   "cell_type": "code",
   "execution_count": 1,
   "id": "517d5c3b-6f43-4b71-a472-c5696ccbad02",
   "metadata": {},
   "outputs": [],
   "source": [
    "# allows the embedding of YouTube videos\n",
    "from IPython.display import HTML"
   ]
  },
  {
   "cell_type": "markdown",
   "id": "f53edaa2",
   "metadata": {},
   "source": [
    "# Introduction\n",
    "\n",
    "```\n",
    "In this notebook, we will be covering the major issues and challenges one can face when working with multilingual corpora. We will specifically address how these issues relate to the problem of named entity recognition (NER), a method of information extraction that relies upon natural language processing (NLP).\n",
    "\n",
    "We will also cover the basics of spaCy and named entity recognition in general for those who do not have a background in either area.\n",
    "```"
   ]
  },
  {
   "cell_type": "markdown",
   "id": "f803f59c-d7f8-48ff-af5a-b10aa0b8fbdb",
   "metadata": {},
   "source": [
    "# Text Encoding"
   ]
  },
  {
   "cell_type": "markdown",
   "id": "2766ebd7-066f-460e-b9ab-fae64ba585de",
   "metadata": {},
   "source": [
    "## Background"
   ]
  },
  {
   "cell_type": "code",
   "execution_count": 8,
   "id": "139aafbd-5d1a-452b-bb51-283d6a8e324c",
   "metadata": {},
   "outputs": [],
   "source": [
    "# import libraries for basic web scraping\n",
    "import requests\n",
    "from bs4 import BeautifulSoup"
   ]
  },
  {
   "cell_type": "markdown",
   "id": "fedb6925-65a6-4722-a130-c425ebff7e2c",
   "metadata": {},
   "source": [
    "Before we discuss the complexities of text encoding, let's first jump into a real-world example. We will be scraping the data from the SABC SAHA website in South Africa. The page we are scraping, looks like this.\n",
    "\n",
    "<center><img src='../images/saha_website.JPG' width=500></center>"
   ]
  },
  {
   "cell_type": "markdown",
   "id": "14c3d18c-07d7-4d31-9032-481c6d5441a0",
   "metadata": {},
   "source": [
    "We are interested in grabbing the data from the p tag in the HTML with id that is equal to line4 (the area I have underlined in the image). This entire page holds a particular testimony from the TRC in South Africa during the late 90s and early 2000s, when this text representation of the testimony was generated. The date and time are important here because this particular text was created with a computer that used an early form of text encoding, or the process by which text is encoded into numerical values that can be parsed by your computer.\n",
    "\n",
    "We know that this has an non-modern standard form of encoding because one character stands out with a �. This character indicates that the text cannot be parsed with the encoding method being used to parse the text. Because we are viewing this on a modern browser (which is based in a modern encoding method known as utf-8), the browser cannot render this particular encoding. Something is happening between the server and our personal computer's browser.\n",
    "\n",
    "Let's grab that particular line using requests and BeautifulSoup"
   ]
  },
  {
   "cell_type": "code",
   "execution_count": 9,
   "id": "b1207a94-732a-464a-bdf0-12fbb7757768",
   "metadata": {},
   "outputs": [],
   "source": [
    "s = requests.get('https://sabctrc.saha.org.za/documents/amntrans/benoni/52831.htm')\n",
    "soup = BeautifulSoup(s.content)\n",
    "line = soup.find(\"p\", {\"id\": \"line4\"})\n",
    "iso_text =  line.text"
   ]
  },
  {
   "cell_type": "markdown",
   "id": "bfc80e08-eb55-4c90-b331-4f9f552e0464",
   "metadata": {},
   "source": [
    "Now that we have that line, let's print it off."
   ]
  },
  {
   "cell_type": "markdown",
   "id": "a85fd55d-1153-4b6d-94d3-74c87afdc7ef",
   "metadata": {},
   "source": [
    "print (iso_text)"
   ]
  },
  {
   "cell_type": "markdown",
   "id": "59339e71-f16f-436c-b014-67177c2a8d26",
   "metadata": {},
   "source": [
    "Everything looks absolutely fine. No issues whatsoever. So, let's save that test to a file."
   ]
  },
  {
   "cell_type": "code",
   "execution_count": 4,
   "id": "9c2775cc-2bb0-4539-a1cb-6e1a4b03621e",
   "metadata": {},
   "outputs": [],
   "source": [
    "with open('../data/iso-text.txt', 'w') as f:\n",
    "    f.write(iso_text)"
   ]
  },
  {
   "cell_type": "markdown",
   "id": "4ee39d72-c24f-481c-973a-539a545e04a5",
   "metadata": {},
   "source": [
    "And now, let's open that file up and take another look at it."
   ]
  },
  {
   "cell_type": "code",
   "execution_count": 5,
   "id": "2403ddb9-bdaa-4dbe-a9a2-291fba3e53e1",
   "metadata": {},
   "outputs": [
    {
     "name": "stdout",
     "output_type": "stream",
     "text": [
      "ADV STEENKAMP: I'm André Steenkamp.\n"
     ]
    }
   ],
   "source": [
    "with open (\"../data/iso-text.txt\", 'r') as f:\n",
    "    iso_data = f.read()\n",
    "print (iso_data)"
   ]
  },
  {
   "cell_type": "markdown",
   "id": "c0743458-6777-4483-87ab-cbe67395ba4e",
   "metadata": {},
   "source": [
    "Yep. It still looks good. For good measure, let's open the file up the same text in a separate file that is stored as utf-8."
   ]
  },
  {
   "cell_type": "code",
   "execution_count": 16,
   "id": "e42e6644-b017-4073-974b-ee01cd7a8035",
   "metadata": {},
   "outputs": [
    {
     "name": "stdout",
     "output_type": "stream",
     "text": [
      "ADV STEENKAMP: I'm AndrÃ© Steenkamp.\n"
     ]
    }
   ],
   "source": [
    "with open(\"../data/utf8-text.txt\", \"r\") as f:\n",
    "    utf8_data = f.read()\n",
    "print (utf8_data)"
   ]
  },
  {
   "cell_type": "markdown",
   "id": "222b8910-3254-4a5f-8ad7-fc7c10edd48b",
   "metadata": {},
   "source": [
    "And now, we can see that something looks wrong. Just to be safe, let's compare the two files."
   ]
  },
  {
   "cell_type": "code",
   "execution_count": 17,
   "id": "28b5ad4b-1e91-4c48-bcc1-5bc158d7de98",
   "metadata": {},
   "outputs": [
    {
     "data": {
      "text/plain": [
       "False"
      ]
     },
     "execution_count": 17,
     "metadata": {},
     "output_type": "execute_result"
    }
   ],
   "source": [
    "iso_data == utf8_data"
   ]
  },
  {
   "cell_type": "markdown",
   "id": "a56c53b2-5c64-4386-b31c-90b5577923df",
   "metadata": {},
   "source": [
    "Let's open up the utf8 file now, with encoding specified."
   ]
  },
  {
   "cell_type": "code",
   "execution_count": 18,
   "id": "0680729c-0289-49c7-a0f0-d587b99750c3",
   "metadata": {},
   "outputs": [
    {
     "name": "stdout",
     "output_type": "stream",
     "text": [
      "ADV STEENKAMP: I'm André Steenkamp.\n"
     ]
    }
   ],
   "source": [
    "with open(\"../data/utf8-text.txt\", \"r\", encoding='utf-8') as f:\n",
    "    utf8_data = f.read()\n",
    "print (utf8_data)"
   ]
  },
  {
   "cell_type": "code",
   "execution_count": 19,
   "id": "9272a77d-7893-44c0-b027-0199f94a6b29",
   "metadata": {},
   "outputs": [
    {
     "data": {
      "text/plain": [
       "True"
      ]
     },
     "execution_count": 19,
     "metadata": {},
     "output_type": "execute_result"
    }
   ],
   "source": [
    "iso_data == utf8_data"
   ]
  },
  {
   "cell_type": "markdown",
   "id": "d71f4762-f86e-436e-a454-b55d39f4e4c6",
   "metadata": {},
   "source": [
    "Python has allowed us to standardize now these two different pieces of data by bringing together the two different encodings into a utf-8 standard. Now, why is this such a problem? Because text encoding, while looking clean in Python, will fundamentally break named entity recognition systems which are not looking at the same data."
   ]
  },
  {
   "cell_type": "markdown",
   "id": "4c21aeda-8e5d-4a04-bf45-d2a8bb63918f",
   "metadata": {},
   "source": [
    "To see what is happening here, let's look at these in a proper text editor. We will use Atom.\n",
    "\n",
    "<center><img src='../images/encoding-issue.JPG' width=500></center>\n",
    "\n",
    "Notice in the above image, we can see the problem is preserved. In the bottom left corner of Atom, however, we have the ability to change the encoding of the text file being observed.\n",
    "\n",
    "<center><img src='../images/encoding-issue2.JPG' width=500></center>\n",
    "\n",
    "When we change that from UTF-8 to ISO-8859-15, the problem vanishes. So, what has happened? We have switched our IDE (Atom) into an encoding method that was used in the 1990s in northern-European languages of which Afrikaans, despite being South African, is associated due to Dutch colonialism.\n",
    "\n",
    "Why is this such a big deal? Because while you or I will see the same text and the same characters on the screen, a computer will not. Those who work with multilingual corpora, especially those who work with texts that were created before the modern day, will encounter at some point corpora that contain multiple encodings. Understanding this issue and the myriad of problems that surface because of them will make your life much easier.\n",
    "\n",
    "This is precisely what we will now address."
   ]
  },
  {
   "cell_type": "markdown",
   "id": "bb7d08d3-f9ef-47ca-82b0-47f3cde9a948",
   "metadata": {},
   "source": [
    "## Resources"
   ]
  },
  {
   "cell_type": "markdown",
   "id": "baccd12f-0496-4c6a-89d3-69d2f9558621",
   "metadata": {},
   "source": [
    "Tim Scott from Computerphile explains UTF-8"
   ]
  },
  {
   "cell_type": "code",
   "execution_count": 16,
   "id": "32c45f61-50e6-43b9-a9bf-f641e4b3d3d5",
   "metadata": {},
   "outputs": [
    {
     "name": "stderr",
     "output_type": "stream",
     "text": [
      "C:\\Users\\wma22\\anaconda3\\lib\\site-packages\\IPython\\core\\display.py:419: UserWarning: Consider using IPython.display.IFrame instead\n",
      "  warnings.warn(\"Consider using IPython.display.IFrame instead\")\n"
     ]
    },
    {
     "data": {
      "text/html": [
       "<iframe width=\"560\" height=\"315\" src=\"https://www.youtube.com/embed/MijmeoH9LT4\" title=\"YouTube video player\" frameborder=\"0\" allow=\"accelerometer; autoplay; clipboard-write; encrypted-media; gyroscope; picture-in-picture\" allowfullscreen></iframe>"
      ],
      "text/plain": [
       "<IPython.core.display.HTML object>"
      ]
     },
     "execution_count": 16,
     "metadata": {},
     "output_type": "execute_result"
    }
   ],
   "source": [
    "HTML('<iframe width=\"560\" height=\"315\" src=\"https://www.youtube.com/embed/MijmeoH9LT4\" title=\"YouTube video player\" frameborder=\"0\" allow=\"accelerometer; autoplay; clipboard-write; encrypted-media; gyroscope; picture-in-picture\" allowfullscreen></iframe>')"
   ]
  },
  {
   "cell_type": "markdown",
   "id": "43faf3e4-8077-49a4-9f20-b834e21d8370",
   "metadata": {},
   "source": [
    "James Briggs Explains Unicode Noramlization"
   ]
  },
  {
   "cell_type": "code",
   "execution_count": 17,
   "id": "62a6eb97-2288-4cfc-9691-65be30f2a20a",
   "metadata": {},
   "outputs": [
    {
     "data": {
      "text/html": [
       "<iframe width=\"560\" height=\"315\" src=\"https://www.youtube.com/embed/9Od9-DV9kd8\" title=\"YouTube video player\" frameborder=\"0\" allow=\"accelerometer; autoplay; clipboard-write; encrypted-media; gyroscope; picture-in-picture\" allowfullscreen></iframe>"
      ],
      "text/plain": [
       "<IPython.core.display.HTML object>"
      ]
     },
     "execution_count": 17,
     "metadata": {},
     "output_type": "execute_result"
    }
   ],
   "source": [
    "HTML('<iframe width=\"560\" height=\"315\" src=\"https://www.youtube.com/embed/9Od9-DV9kd8\" title=\"YouTube video player\" frameborder=\"0\" allow=\"accelerometer; autoplay; clipboard-write; encrypted-media; gyroscope; picture-in-picture\" allowfullscreen></iframe>')"
   ]
  },
  {
   "cell_type": "markdown",
   "id": "82649a55-fed8-4d4c-9989-adbb7d52625d",
   "metadata": {},
   "source": [
    "https://towardsdatascience.com/what-on-earth-is-unicode-normalization-56c005c55ad0"
   ]
  },
  {
   "cell_type": "markdown",
   "id": "dca159ef-0e44-4dd1-9881-ea938146950e",
   "metadata": {},
   "source": [
    "## The Problem"
   ]
  },
  {
   "cell_type": "markdown",
   "id": "4b0bbe26-b237-4e04-8d38-46924e346f4a",
   "metadata": {},
   "source": [
    "### Problem within UTF-8"
   ]
  },
  {
   "cell_type": "code",
   "execution_count": 8,
   "id": "7b2cd950-aa3d-4386-9d03-473f536c9b96",
   "metadata": {},
   "outputs": [
    {
     "data": {
      "text/plain": [
       "True"
      ]
     },
     "execution_count": 8,
     "metadata": {},
     "output_type": "execute_result"
    }
   ],
   "source": [
    "\"È\" == \"È\""
   ]
  },
  {
   "cell_type": "code",
   "execution_count": 12,
   "id": "d7096345-bb1f-4903-9889-147fef0a6b56",
   "metadata": {},
   "outputs": [
    {
     "data": {
      "text/plain": [
       "False"
      ]
     },
     "execution_count": 12,
     "metadata": {},
     "output_type": "execute_result"
    }
   ],
   "source": [
    "\"È\" == \"È\""
   ]
  },
  {
   "cell_type": "code",
   "execution_count": 11,
   "id": "5046a64a-deba-415e-a2fc-3ca9733fbce2",
   "metadata": {},
   "outputs": [
    {
     "name": "stdout",
     "output_type": "stream",
     "text": [
      "È\n"
     ]
    }
   ],
   "source": [
    "compound_e = \"\\u0045\\u0300\"\n",
    "print (compound_e)"
   ]
  },
  {
   "cell_type": "code",
   "execution_count": 9,
   "id": "ad27755e-2210-4d2c-b07d-8a3fe2da95fd",
   "metadata": {},
   "outputs": [
    {
     "name": "stdout",
     "output_type": "stream",
     "text": [
      "È\n"
     ]
    }
   ],
   "source": [
    "accent_e = \"\\u00C8\"\n",
    "print (accent_e)"
   ]
  },
  {
   "cell_type": "code",
   "execution_count": 40,
   "id": "6ff2f4ea-7b30-482a-b07f-9834af74b012",
   "metadata": {},
   "outputs": [
    {
     "data": {
      "text/plain": [
       "'feff00c8'"
      ]
     },
     "execution_count": 40,
     "metadata": {},
     "output_type": "execute_result"
    }
   ],
   "source": [
    "utf_16 = \"feff00c8\"\n",
    "utf_16"
   ]
  },
  {
   "cell_type": "markdown",
   "id": "3c53c780-df1f-4344-b103-075dbb15cfca",
   "metadata": {},
   "source": [
    "### Carriage Returns"
   ]
  },
  {
   "cell_type": "code",
   "execution_count": 25,
   "id": "66bc89a7-f623-495a-b87b-5344db0d3000",
   "metadata": {},
   "outputs": [
    {
     "name": "stdout",
     "output_type": "stream",
     "text": [
      "È\n",
      "È\n"
     ]
    }
   ],
   "source": [
    "e_with_carriage = \"\\u00C8\\u000D\"\n",
    "e_without_carriage = '\\u00C8'\n",
    "print(e_with_carriage)\n",
    "print (e_without_carriage)"
   ]
  },
  {
   "cell_type": "code",
   "execution_count": 26,
   "id": "61c50ad4-ffff-4af5-988d-f0030b9bcc3d",
   "metadata": {},
   "outputs": [
    {
     "data": {
      "text/plain": [
       "False"
      ]
     },
     "execution_count": 26,
     "metadata": {},
     "output_type": "execute_result"
    }
   ],
   "source": [
    "e_with_carriage == e_without_carriage"
   ]
  },
  {
   "cell_type": "code",
   "execution_count": 27,
   "id": "ed6ee88a-eba7-4345-a9d3-8e192df051b5",
   "metadata": {},
   "outputs": [
    {
     "data": {
      "text/plain": [
       "'È'"
      ]
     },
     "execution_count": 27,
     "metadata": {},
     "output_type": "execute_result"
    }
   ],
   "source": [
    "e_without_carriage"
   ]
  },
  {
   "cell_type": "code",
   "execution_count": 28,
   "id": "20919617-67c3-492b-b9d3-853b4c3f5e9f",
   "metadata": {},
   "outputs": [
    {
     "data": {
      "text/plain": [
       "'È\\r'"
      ]
     },
     "execution_count": 28,
     "metadata": {},
     "output_type": "execute_result"
    }
   ],
   "source": [
    "e_with_carriage"
   ]
  },
  {
   "cell_type": "code",
   "execution_count": 30,
   "id": "97f33a7b-746a-4d99-a052-3d64aaa94612",
   "metadata": {},
   "outputs": [
    {
     "name": "stdout",
     "output_type": "stream",
     "text": [
      "È\n",
      "\n"
     ]
    }
   ],
   "source": [
    "print('È\\n')"
   ]
  },
  {
   "cell_type": "code",
   "execution_count": 31,
   "id": "949f787e-b4fc-47cc-b62d-341bd95b7c54",
   "metadata": {},
   "outputs": [
    {
     "data": {
      "text/plain": [
       "'È\\n'"
      ]
     },
     "execution_count": 31,
     "metadata": {},
     "output_type": "execute_result"
    }
   ],
   "source": [
    "'È\\n'"
   ]
  },
  {
   "cell_type": "markdown",
   "id": "332c5dc0-d6f5-49eb-9911-1e8ccac1bfe6",
   "metadata": {},
   "source": [
    "## The Solution"
   ]
  },
  {
   "cell_type": "markdown",
   "id": "858d535a-c3be-41cb-9520-777ed2e46088",
   "metadata": {},
   "source": [
    "## Normalize Unicode"
   ]
  },
  {
   "cell_type": "code",
   "execution_count": null,
   "id": "aa6bb864-4877-4da5-b55d-efe02af27340",
   "metadata": {},
   "outputs": [],
   "source": []
  },
  {
   "cell_type": "markdown",
   "id": "d60460cb-e888-4b1b-812e-e024b0572596",
   "metadata": {},
   "source": [
    "| Name | Abbreviation | Description | Example |\n",
    "| --- | --- | --- | --- |\n",
    "| Form D | NFD | *Canonical* decomposition | `Ç` → `C ̧` |\n",
    "| Form C | NFC | *Canoncial* decomposition followed by *canonical* composition | `Ç` → `C ̧` → `Ç` |\n",
    "| Form KD | NFKD | *Compatibility* decomposition | `ℌ ̧` → `H ̧` |\n",
    "| Form KC | NFKC | *Compatibility* decomposition followed by *canonical* composition | `ℌ ̧` → `H ̧` → `Ḩ` |\n",
    "\n",
    "```\n",
    "Source: James Briggs - https://towardsdatascience.com/what-on-earth-is-unicode-normalization-56c005c55ad0\n",
    "```"
   ]
  },
  {
   "cell_type": "code",
   "execution_count": 39,
   "id": "dbcf8a37-22a7-47d2-a23a-06ab2f256f69",
   "metadata": {},
   "outputs": [],
   "source": [
    "import unicodedata"
   ]
  },
  {
   "cell_type": "code",
   "execution_count": null,
   "id": "f901a3f4-1219-4581-aa9a-0fba005aaf48",
   "metadata": {},
   "outputs": [],
   "source": []
  },
  {
   "cell_type": "code",
   "execution_count": null,
   "id": "87e5184d-23e9-413d-8193-e5d780d38623",
   "metadata": {},
   "outputs": [],
   "source": []
  },
  {
   "cell_type": "code",
   "execution_count": null,
   "id": "9480309e-641c-4ed3-b392-4239589b689c",
   "metadata": {},
   "outputs": [],
   "source": []
  },
  {
   "cell_type": "markdown",
   "id": "c90fc89e-8f69-4c14-803b-93543040c408",
   "metadata": {},
   "source": [
    "## Normalize Accents"
   ]
  },
  {
   "cell_type": "code",
   "execution_count": 32,
   "id": "815e9ec4-0c40-41b1-af4a-d5784ebf95a2",
   "metadata": {},
   "outputs": [],
   "source": [
    "import unidecode"
   ]
  },
  {
   "cell_type": "code",
   "execution_count": 36,
   "id": "0a10cf27-4dfc-450c-96a5-bdfae30dd99c",
   "metadata": {},
   "outputs": [
    {
     "name": "stdout",
     "output_type": "stream",
     "text": [
      "âcre\n"
     ]
    }
   ],
   "source": [
    "accented_string = \"âcre\"\n",
    "print (accented_string)"
   ]
  },
  {
   "cell_type": "code",
   "execution_count": 37,
   "id": "41ea0fb3-aa08-4149-9962-ddce190b2972",
   "metadata": {},
   "outputs": [
    {
     "name": "stdout",
     "output_type": "stream",
     "text": [
      "acre\n"
     ]
    }
   ],
   "source": [
    "print (unidecode.unidecode(accented_string))"
   ]
  },
  {
   "cell_type": "markdown",
   "id": "1b2c91fd-6792-4ab4-b6ae-6334521d8fa0",
   "metadata": {},
   "source": [
    "The problem here is that we have a change in meaning.\n",
    "\n",
    "| French      | English |\n",
    "| ----------- | ----------- |\n",
    "| âcre      | acrid, pungent       |\n",
    "| acre   | acre        |"
   ]
  },
  {
   "cell_type": "markdown",
   "id": "710bbd16-c078-40fe-8289-5ec22b284098",
   "metadata": {},
   "source": [
    "# Solving the Right Problem by Understanding the Data"
   ]
  },
  {
   "cell_type": "code",
   "execution_count": null,
   "id": "1a02217e-e817-4492-b574-45b0db376361",
   "metadata": {},
   "outputs": [],
   "source": []
  },
  {
   "cell_type": "markdown",
   "id": "16469190-63a8-4b12-be0b-194da6883a62",
   "metadata": {},
   "source": [
    "## Working with a Multilingual Corpus"
   ]
  },
  {
   "cell_type": "code",
   "execution_count": null,
   "id": "0896ac4a-b664-47f5-8689-1422445c96d2",
   "metadata": {},
   "outputs": [],
   "source": []
  },
  {
   "cell_type": "markdown",
   "id": "ca30f5b9-92be-4f6d-b7d8-43a948f91614",
   "metadata": {},
   "source": [
    "## Working with a Multilingual Document"
   ]
  },
  {
   "cell_type": "code",
   "execution_count": null,
   "id": "bd945965-f919-4497-8bd5-27b8e05c292a",
   "metadata": {},
   "outputs": [],
   "source": []
  },
  {
   "cell_type": "markdown",
   "id": "00a44149-e47f-44b9-a885-b4544a4dabc6",
   "metadata": {},
   "source": [
    "# Introduction to Named Entity Recognition"
   ]
  },
  {
   "cell_type": "code",
   "execution_count": null,
   "id": "a9595082-5a6f-465c-a808-0759b9641cbd",
   "metadata": {},
   "outputs": [],
   "source": []
  },
  {
   "cell_type": "code",
   "execution_count": null,
   "id": "ab8e2659-e943-4053-9d60-dc387057c16c",
   "metadata": {},
   "outputs": [],
   "source": []
  },
  {
   "cell_type": "code",
   "execution_count": null,
   "id": "a0864b89-880f-4e04-a091-3c7e536d310d",
   "metadata": {},
   "outputs": [],
   "source": []
  },
  {
   "cell_type": "markdown",
   "id": "274f43f2-cdbc-489e-bdd6-c7402293e3eb",
   "metadata": {},
   "source": [
    "# Introduction to spaCy"
   ]
  },
  {
   "cell_type": "code",
   "execution_count": null,
   "id": "dd1bead7-5d08-4cf5-83d3-b354a4048bb7",
   "metadata": {},
   "outputs": [],
   "source": []
  }
 ],
 "metadata": {
  "kernelspec": {
   "display_name": "Python 3 (ipykernel)",
   "language": "python",
   "name": "python3"
  },
  "language_info": {
   "codemirror_mode": {
    "name": "ipython",
    "version": 3
   },
   "file_extension": ".py",
   "mimetype": "text/x-python",
   "name": "python",
   "nbconvert_exporter": "python",
   "pygments_lexer": "ipython3",
   "version": "3.8.5"
  },
  "toc": {
   "base_numbering": 1,
   "nav_menu": {},
   "number_sections": true,
   "sideBar": true,
   "skip_h1_title": false,
   "title_cell": "Table of Contents",
   "title_sidebar": "Contents",
   "toc_cell": false,
   "toc_position": {},
   "toc_section_display": true,
   "toc_window_display": true
  }
 },
 "nbformat": 4,
 "nbformat_minor": 5
}
